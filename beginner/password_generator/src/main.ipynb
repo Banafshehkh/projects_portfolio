{
 "cells": [
  {
   "cell_type": "markdown",
   "id": "7f2d4ab4",
   "metadata": {},
   "source": [
    "- random password\n",
    "- memorable password\n",
    "- pin codes"
   ]
  },
  {
   "cell_type": "markdown",
   "id": "0c2f36f8",
   "metadata": {},
   "source": [
    "Parent: PasswordGenerator\n",
    " - Abstract\n",
    " - Methods: __init__, generate\n",
    "\n",
    " class RandomPasswordGenerator\n",
    " class MemorablePasswordGenerator\n",
    " class PinGenerator"
   ]
  },
  {
   "cell_type": "code",
   "execution_count": 63,
   "id": "b7d26443",
   "metadata": {},
   "outputs": [
    {
     "data": {
      "text/plain": [
       "236736"
      ]
     },
     "execution_count": 63,
     "metadata": {},
     "output_type": "execute_result"
    }
   ],
   "source": [
    "from abc import ABC, abstractmethod\n",
    "import string\n",
    "import random\n",
    "import nltk\n",
    "\n",
    "# nltk.download('words')\n",
    "\n",
    "len(nltk.corpus.words.words())"
   ]
  },
  {
   "cell_type": "code",
   "execution_count": 64,
   "id": "43296f81",
   "metadata": {},
   "outputs": [],
   "source": [
    "class PasswordGenerator:\n",
    "    @abstractmethod\n",
    "    def generate(self) -> str:\n",
    "        pass"
   ]
  },
  {
   "cell_type": "code",
   "execution_count": 84,
   "id": "4ac1881d",
   "metadata": {},
   "outputs": [],
   "source": [
    "class RandomPasswordGenerator(PasswordGenerator):\n",
    "    def __init__(self, length: int = 8, include_numbers: bool = True, include_symbols: bool = True ):\n",
    "        self.length = length\n",
    "        self.include_numbers = include_numbers\n",
    "        self.include_symbols = include_symbols\n",
    "        self.characters = string.ascii_letters\n",
    "        if include_numbers:\n",
    "            self.characters += string.digits\n",
    "        if include_symbols:\n",
    "            self.characters += string.punctuation\n",
    "\n",
    "    def generate(self):\n",
    "        return ''.join([random.choice(self.characters) for _ in range(self.length)])\n"
   ]
  },
  {
   "cell_type": "code",
   "execution_count": 85,
   "id": "a73b821b",
   "metadata": {},
   "outputs": [],
   "source": [
    "class PinGenerator(PasswordGenerator):\n",
    "    def __init__(self, length: int):\n",
    "        self.length = length\n",
    "        \n",
    "    def generate(self):\n",
    "        return ''.join([random.choice(string.digits) for _ in range(self.length)])\n"
   ]
  },
  {
   "cell_type": "code",
   "execution_count": 86,
   "id": "b264d1c7",
   "metadata": {},
   "outputs": [],
   "source": [
    "class MemorablePasswordGenerator(PasswordGenerator):\n",
    "    def __init__(self, number_of_words, seperator: str = '-', capitalization: bool = False):\n",
    "        self.number_of_words = number_of_words\n",
    "        self.seperator = seperator\n",
    "        self.capitalization = capitalization\n",
    "\n",
    "    def generate(self):\n",
    "        words = [random.choice(nltk.corpus.words.words()) for _ in range(self.number_of_words)]\n",
    "        \n",
    "        if self.capitalization:\n",
    "            # Convert to uppercase\n",
    "            words = [word.upper() for word in words]\n",
    "        else:\n",
    "            # Convert to lowercase\n",
    "            words = [word.lower() for word in words]\n",
    "            \n",
    "        return self.seperator.join(words)\n"
   ]
  },
  {
   "cell_type": "code",
   "execution_count": 87,
   "id": "555afd66",
   "metadata": {},
   "outputs": [
    {
     "name": "stdout",
     "output_type": "stream",
     "text": [
      "Uppercase: STERCORATE-SOCIALIZATION-PSITTACEOUSLY\n",
      "Lowercase: cotton-penannular-brazer\n"
     ]
    }
   ],
   "source": [
    "# Test with uppercase (capitalization = True)\n",
    "obj_upper = MemorablePasswordGenerator(number_of_words=3, seperator='-', capitalization=True)\n",
    "print(\"Uppercase:\", obj_upper.generate())\n",
    "\n",
    "# Test with lowercase (capitalization = False)\n",
    "obj_lower = MemorablePasswordGenerator(number_of_words=3, seperator='-', capitalization=False)\n",
    "print(\"Lowercase:\", obj_lower.generate())"
   ]
  },
  {
   "cell_type": "code",
   "execution_count": null,
   "id": "ef2e8c8d",
   "metadata": {},
   "outputs": [],
   "source": []
  }
 ],
 "metadata": {
  "kernelspec": {
   "display_name": "pytopia",
   "language": "python",
   "name": "python3"
  },
  "language_info": {
   "codemirror_mode": {
    "name": "ipython",
    "version": 3
   },
   "file_extension": ".py",
   "mimetype": "text/x-python",
   "name": "python",
   "nbconvert_exporter": "python",
   "pygments_lexer": "ipython3",
   "version": "3.12.11"
  }
 },
 "nbformat": 4,
 "nbformat_minor": 5
}
